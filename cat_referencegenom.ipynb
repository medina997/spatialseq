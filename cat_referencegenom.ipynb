{
 "cells": [
  {
   "cell_type": "code",
   "execution_count": 1,
   "id": "b3a884db-9209-4470-88c0-1e996bd69fa4",
   "metadata": {},
   "outputs": [],
   "source": [
    "def readGenome(filename):\n",
    "    genome = ''\n",
    "    with open(filename, 'r') as f:\n",
    "        for line in f:\n",
    "            # ignore header line with genome information\n",
    "            if not line[0] == '>':\n",
    "                genome += line.rstrip()\n",
    "    return genome"
   ]
  },
  {
   "cell_type": "code",
   "execution_count": 3,
   "id": "64d6d7ac-07b8-4b52-b8f5-76542898364d",
   "metadata": {},
   "outputs": [],
   "source": [
    "genome = readGenome('Felis_catus.Felis_catus_9.0.dna.chromosome.A1.fa')"
   ]
  },
  {
   "cell_type": "code",
   "execution_count": 4,
   "id": "dcc3f3bd-fab2-445e-b28c-ead6775e21de",
   "metadata": {},
   "outputs": [
    {
     "data": {
      "text/plain": [
       "'ATCAGGAGATCTAGATGCCTGGAGAGGAGTGGAGAAAACGGGAAACCCTCTTATGGGAAGAGGTAATATGTATTTCTCCTTCGAATATAAAAAAAGTAAA'"
      ]
     },
     "execution_count": 4,
     "metadata": {},
     "output_type": "execute_result"
    }
   ],
   "source": [
    "genome[:100]"
   ]
  },
  {
   "cell_type": "code",
   "execution_count": 5,
   "id": "c6f3d470-f1e0-4f76-b0c7-0b874bbe4dc7",
   "metadata": {},
   "outputs": [
    {
     "data": {
      "text/plain": [
       "Counter({'A': 71941733,\n",
       "         'T': 72297736,\n",
       "         'C': 47934026,\n",
       "         'G': 47925820,\n",
       "         'N': 2001598})"
      ]
     },
     "execution_count": 5,
     "metadata": {},
     "output_type": "execute_result"
    }
   ],
   "source": [
    "import collections\n",
    "collections.Counter(genome)"
   ]
  },
  {
   "cell_type": "code",
   "execution_count": null,
   "id": "6126c524-76c2-43c9-adc9-098fa1665cfc",
   "metadata": {},
   "outputs": [],
   "source": []
  }
 ],
 "metadata": {
  "kernelspec": {
   "display_name": "Python 3 (ipykernel)",
   "language": "python",
   "name": "python3"
  },
  "language_info": {
   "codemirror_mode": {
    "name": "ipython",
    "version": 3
   },
   "file_extension": ".py",
   "mimetype": "text/x-python",
   "name": "python",
   "nbconvert_exporter": "python",
   "pygments_lexer": "ipython3",
   "version": "3.7.12"
  }
 },
 "nbformat": 4,
 "nbformat_minor": 5
}
