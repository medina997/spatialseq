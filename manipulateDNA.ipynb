{
 "print(readin in fastq, fasta)"
 "cells": [
  {
   "cell_type": "code",
   "execution_count": 1,
   "id": "7acbfcaa-56f0-4d1c-a23e-eb1b04099dd1",
   "metadata": {},
   "outputs": [],
   "source": [
    "def longestcommonprefix(s1,s2):\n",
    "    i = 0\n",
    "    while i<len(s1) and i<len(s2) and s1[i] == s2[i]:\n",
    "        i+=1\n",
    "    return s1[:i]\n"
   ]
  },
  {
   "cell_type": "code",
   "execution_count": 2,
   "id": "7d82d356-db86-4c5d-ab3d-1d3efb9f1fdf",
   "metadata": {},
   "outputs": [
    {
     "data": {
      "text/plain": [
       "'AAA'"
      ]
     },
     "execution_count": 2,
     "metadata": {},
     "output_type": "execute_result"
    }
   ],
   "source": [
    "s1 = 'AAACTGTG'\n",
    "s2 = 'AAA'\n",
    "longestcommonprefix(s1,s2)"
   ]
  },
  {
   "cell_type": "code",
   "execution_count": 10,
   "id": "40de2253-f11d-486b-8c5b-fe52bd9e24a8",
   "metadata": {},
   "outputs": [],
   "source": [
    "def match(s1, s2):\n",
    "    if not len(s1) == len(s2):\n",
    "        return False\n",
    "    for i in range(len(s1)):\n",
    "        if not s1[i] == s2[i]:\n",
    "            return False\n",
    "    return True"
   ]
  },
  {
   "cell_type": "code",
   "execution_count": 11,
   "id": "19b53f5a-5686-4c0e-a4dd-1fa0fad74367",
   "metadata": {},
   "outputs": [
    {
     "data": {
      "text/plain": [
       "False"
      ]
     },
     "execution_count": 11,
     "metadata": {},
     "output_type": "execute_result"
    }
   ],
   "source": [
    "match(s1,s2)"
   ]
  },
  {
   "cell_type": "code",
   "execution_count": 12,
   "id": "4c3c1b87-7b76-4b8e-93d5-416c57383795",
   "metadata": {},
   "outputs": [
    {
     "data": {
      "text/plain": [
       "True"
      ]
     },
     "execution_count": 12,
     "metadata": {},
     "output_type": "execute_result"
    }
   ],
   "source": [
    "match('ACTG','ACTG')"
   ]
  },
  {
   "cell_type": "code",
   "execution_count": 13,
   "id": "dc91fc7d-95a4-4907-8f71-dad0a77b17e1",
   "metadata": {},
   "outputs": [],
   "source": [
    "complement = {'A':'T','G':'C','C':'G','T':'A'}"
   ]
  },
  {
   "cell_type": "code",
   "execution_count": 15,
   "id": "c61cfc48-a514-479f-83e7-a76689882953",
   "metadata": {},
   "outputs": [
    {
     "data": {
      "text/plain": [
       "'T'"
      ]
     },
     "execution_count": 15,
     "metadata": {},
     "output_type": "execute_result"
    }
   ],
   "source": [
    "complement['A']"
   ]
  },
  {
   "cell_type": "code",
   "execution_count": 21,
   "id": "d6185712-fcfc-453d-adef-d100d416500c",
   "metadata": {},
   "outputs": [],
   "source": [
    "def reversecompliment(s):\n",
    "    complement = {'A':'T','G':'C','C':'G','T':'A'}\n",
    "    t  = ''\n",
    "    for i in range(len(s)):\n",
    "        t= complement[s[i]] +t\n",
    "    return t"
   ]
  },
  {
   "cell_type": "code",
   "execution_count": 22,
   "id": "7c5438bb-8f3d-49ab-8919-d8caa56abeae",
   "metadata": {},
   "outputs": [
    {
     "data": {
      "text/plain": [
       "'CCAAGGTT'"
      ]
     },
     "execution_count": 22,
     "metadata": {},
     "output_type": "execute_result"
    }
   ],
   "source": [
    "reversecompliment('AACCTTGG')"
   ]
  },
  {
   "cell_type": "code",
   "execution_count": 30,
   "id": "131c9e1a-e94c-4828-82c0-d1c749e3a0bd",
   "metadata": {},
   "outputs": [],
   "source": [
    "def readGenome(filename):\n",
    "    genome = ''\n",
    "    with open(filename,'r') as f:\n",
    "        for line in f:\n",
    "            if not line[0] == '>':\n",
    "                genome += line.rstrip()\n",
    "    return genome\n",
    "                \n",
    "genome = readGenome('lambda_virus.fa')   "
   ]
  },
  {
   "cell_type": "code",
   "execution_count": 31,
   "id": "87b1fb52-7d40-4e21-87a0-7d63c4e99e43",
   "metadata": {},
   "outputs": [
    {
     "data": {
      "text/plain": [
       "'GGGCGGCGACCTCGCGGGTTTTCGCTATTTATGAAAATTTTCCGGTTTAAGGCGTTTCCGTTCTTCTTCGTCATAACTTAATGTTTTTATTTAAAATACC'"
      ]
     },
     "execution_count": 31,
     "metadata": {},
     "output_type": "execute_result"
    }
   ],
   "source": [
    "genome[:100]"
   ]
  },
  {
   "cell_type": "code",
   "execution_count": 32,
   "id": "8aadc21a-c132-4a36-97b1-a88a5bf8b7b4",
   "metadata": {},
   "outputs": [
    {
     "data": {
      "text/plain": [
       "48502"
      ]
     },
     "execution_count": 32,
     "metadata": {},
     "output_type": "execute_result"
    }
   ],
   "source": [
    "len(genome)"
   ]
  },
  {
   "cell_type": "code",
   "execution_count": 33,
   "id": "08ccdf6c-9fc3-4fa6-baaf-81fc7312e06e",
   "metadata": {},
   "outputs": [],
   "source": [
    "count = {'A':0, 'T':0, 'G':0, 'C':0}"
   ]
  },
  {
   "cell_type": "code",
   "execution_count": 35,
   "id": "b8fe5920-cd79-4b40-a012-5081062b4251",
   "metadata": {},
   "outputs": [],
   "source": [
    "for base in genome:\n",
    "    count[base]+=1"
   ]
  },
  {
   "cell_type": "code",
   "execution_count": 36,
   "id": "990aa4be-fb3b-45ff-a979-18dd7b5e953a",
   "metadata": {},
   "outputs": [
    {
     "name": "stdout",
     "output_type": "stream",
     "text": [
      "{'A': 12334, 'T': 11986, 'G': 12820, 'C': 11362}\n"
     ]
    }
   ],
   "source": [
    "print(count)"
   ]
  },
  {
   "cell_type": "code",
   "execution_count": 38,
   "id": "991c118d-59e5-4f12-b5a8-37e322f741d2",
   "metadata": {},
   "outputs": [
    {
     "data": {
      "text/plain": [
       "Counter({'G': 12820, 'C': 11362, 'A': 12334, 'T': 11986})"
      ]
     },
     "execution_count": 38,
     "metadata": {},
     "output_type": "execute_result"
    }
   ],
   "source": [
    "import collections\n",
    "collections.Counter(genome)"
   ]
  },
  {
   "cell_type": "markdown",
   "id": "96f58486-3d4f-4489-85cc-ed0a1d21787c",
   "metadata": {},
   "source": []
  },
  {
   "cell_type": "code",
   "execution_count": 3,
   "id": "248561da-8785-44ae-9280-b27efaa93f1d",
   "metadata": {},
   "outputs": [],
   "source": [
    "def readfastq(filename):\n",
    "    sequences = []\n",
    "    qualities = []\n",
    "    with open(filename) as fh:\n",
    "        while True:\n",
    "            fh.readline()\n",
    "            seq = fh.readline().rstrip()\n",
    "            fh.readline()\n",
    "            qual = fh.readline().rstrip()\n",
    "            if len(seq) == 0:\n",
    "                break\n",
    "            sequences.append(seq)\n",
    "            qualities.append(qual)\n",
    "    return sequences, qualities\n",
    "            "
   ]
  },
  {
   "cell_type": "code",
   "execution_count": 4,
   "id": "d5a5cc77-3b26-4ed5-a51a-48ba0f721b74",
   "metadata": {},
   "outputs": [],
   "source": [
    "seqs, quals = readfastq('SRR835775_1.first1000.fastq')"
   ]
  },
  {
   "cell_type": "code",
   "execution_count": 5,
   "id": "907ec93e-f481-413c-911f-1e7efbd1c453",
   "metadata": {},
   "outputs": [
    {
     "name": "stdout",
     "output_type": "stream",
     "text": [
      "['TAACCCTAACCCTAACCCTAACCCTAACCCTAACCCTAACCCTAACCCTAACCCTCACCCTAACCCTAACCCTAACCGTATCCGTCACCCTAACCCTAAC', 'TAACCCTAACCCTAACCCTAACCCTAACCCTAACCCTAACCCTAACCCTAACCCTACCCTAACCCTAACCCTAACCCTAACCCTAACCCTAACCCTAACC', 'TAGGGTTAGGGTTAGGGTTAGGGTTAGGGTTAGGGTTAGGGTTAGGGTTAGGGTTAGGGTTAGGGTTAGGGTTAGGGTTAGGGTTAGGGTTAGGGTTAGG', 'TAGGGTTAGGGTTAGGGTTAGGGTTAGGGTTAGGGTTAGGGTTAGGGTTAGGGTTAGGGTTAGGGTTAAGGGTTGGGGGTTAGGGGTAGGGGTAGGGTTA', 'CTAACCCTAACCCTAACCCTAACCCTACCCTAACCCTAACCCTAACCCTAACCCTAACCCTAACCCTAACCCTAACCCAACCCTAACCCTAACCCTCACC']\n"
     ]
    }
   ],
   "source": [
    "print(seqs[:5])"
   ]
  },
  {
   "cell_type": "code",
   "execution_count": 6,
   "id": "5dbf9aa8-1420-4975-9212-26f0d55f4e69",
   "metadata": {},
   "outputs": [
    {
     "data": {
      "text/plain": [
       "['???B1ADDD8??BB+C?B+:AA883CEE8?C3@DDD3)?D2;DC?8?=BAD=@C@(.6.6=A?=?@##################################',\n",
       " 'CCCFFFFFGHHGHJJJJJIJGIIJJJJJJJIJIJJJJJFJJFGIIIIH=CBFCF=CCEG)=>EHB2@@DEC>;;?=;(=?BBD?59?BA###########',\n",
       " '@@<DD?DDHHH<CBHII:CFGIGAGHIIG?CCGGE0BDHIIHIGICH8=FHGI=@EHGGGEEHH>);?CC@.;(=;?59,5<A599?CB>ABBCB><88A',\n",
       " '@CCFFDDFHHHDFHIJJCGGIJJHIIHJC?DHHIJ0?DGHI9BBFHICGGIGI=CDEGI=?AAEF7@?################################',\n",
       " '@<@FDFDDBBFHH@EBGGGEH@FFHE;EHIEGGBHG?)9?8BDGGBGGBCDGI=93=C6==C;CCD(?@>@#############################']"
      ]
     },
     "execution_count": 6,
     "metadata": {},
     "output_type": "execute_result"
    }
   ],
   "source": [
    "quals[:5]"
   ]
  },
  {
   "cell_type": "code",
   "execution_count": 7,
   "id": "f50d46cd-d607-47b0-b2a8-5fae5490268a",
   "metadata": {},
   "outputs": [],
   "source": [
    "def phred33toQ(qual):\n",
    "    return ord(qual) - 33"
   ]
  },
  {
   "cell_type": "code",
   "execution_count": 8,
   "id": "51e207b9-5843-4f9c-a14e-a0a44745fcd9",
   "metadata": {},
   "outputs": [],
   "source": [
    "def creathist(qualities):\n",
    "    hist = [0] * 50 \n",
    "    for qual in qualities:\n",
    "        for phred in qual:\n",
    "            q = phred33toQ(phred)\n",
    "            hist[q]+=1\n",
    "    return hist"
   ]
  },
  {
   "cell_type": "code",
   "execution_count": 9,
   "id": "3a733ac0-a8a6-4cc4-9485-a7d8a25b09c4",
   "metadata": {},
   "outputs": [],
   "source": [
    "h = creathist(quals)"
   ]
  },
  {
   "cell_type": "code",
   "execution_count": 10,
   "id": "892a577b-3c40-4508-b265-b7f619bbc3df",
   "metadata": {},
   "outputs": [
    {
     "data": {
      "text/plain": [
       "[0,\n",
       " 0,\n",
       " 6178,\n",
       " 0,\n",
       " 0,\n",
       " 54,\n",
       " 108,\n",
       " 574,\n",
       " 345,\n",
       " 83,\n",
       " 193,\n",
       " 124,\n",
       " 79,\n",
       " 165,\n",
       " 49,\n",
       " 236,\n",
       " 184,\n",
       " 327,\n",
       " 514,\n",
       " 238,\n",
       " 531,\n",
       " 254,\n",
       " 313,\n",
       " 798,\n",
       " 992,\n",
       " 888,\n",
       " 1396,\n",
       " 1488,\n",
       " 993,\n",
       " 1752,\n",
       " 3387,\n",
       " 4487,\n",
       " 3248,\n",
       " 5476,\n",
       " 8375,\n",
       " 11814,\n",
       " 4243,\n",
       " 7827,\n",
       " 6579,\n",
       " 8179,\n",
       " 9349,\n",
       " 8180,\n",
       " 0,\n",
       " 0,\n",
       " 0,\n",
       " 0,\n",
       " 0,\n",
       " 0,\n",
       " 0,\n",
       " 0]"
      ]
     },
     "execution_count": 10,
     "metadata": {},
     "output_type": "execute_result"
    }
   ],
   "source": [
    "h"
   ]
  },
  {
   "cell_type": "code",
   "execution_count": 11,
   "id": "05674289-6b29-4c32-bba8-06dfdb6ab1a5",
   "metadata": {},
   "outputs": [
    {
     "data": {
      "image/png": "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\n",
      "text/plain": [
       "<Figure size 432x288 with 1 Axes>"
      ]
     },
     "metadata": {
      "needs_background": "light"
     },
     "output_type": "display_data"
    }
   ],
   "source": [
    "# Plot the histogram\n",
    "%matplotlib inline\n",
    "import matplotlib.pyplot as plt\n",
    "plt.plot(range(len(h)), h)\n",
    "plt.show()"
   ]
  },
  {
   "cell_type": "code",
   "execution_count": 12,
   "id": "0d0f2e83-46e3-45b1-8d41-01beb3810869",
   "metadata": {},
   "outputs": [],
   "source": [
    "def readGenome(filename):\n",
    "    genome = ''\n",
    "    with open(filename, 'r') as f:\n",
    "        for line in f:\n",
    "            # ignore header line with genome information\n",
    "            if not line[0] == '>':\n",
    "                genome += line.rstrip()\n",
    "    return genome"
   ]
  },
  {
   "cell_type": "code",
   "execution_count": 14,
   "id": "c554ab5b-71ab-4073-8a1a-3cb94f281895",
   "metadata": {},
   "outputs": [],
   "source": [
    "genome = readGenome('phix.fa')"
   ]
  },
  {
   "cell_type": "code",
   "execution_count": 15,
   "id": "e5ebfbcd-3515-486f-ae17-dd90ac1dbf47",
   "metadata": {},
   "outputs": [],
   "source": [
    "def naive(p, t):\n",
    "    occurrences = []\n",
    "    for i in range(len(t) - len(p) + 1):\n",
    "        match = True\n",
    "        for j in range(len(p)):\n",
    "            if t[i+j] != p[j]:\n",
    "                match = False\n",
    "                break\n",
    "        if match:\n",
    "            occurrences.append(i)\n",
    "    return occurrences"
   ]
  },
  {
   "cell_type": "code",
   "execution_count": 17,
   "id": "30ba05e6-dce2-4850-a2c2-d2afbd700ccb",
   "metadata": {},
   "outputs": [
    {
     "data": {
      "text/plain": [
       "[]"
      ]
     },
     "execution_count": 17,
     "metadata": {},
     "output_type": "execute_result"
    }
   ],
   "source": [
    "naive(seqs,genome)"
   ]
  },
  {
   "cell_type": "code",
   "execution_count": 20,
   "id": "27039156-7f41-4d21-811c-cfb5fb09bc24",
   "metadata": {},
   "outputs": [
    {
     "name": "stdout",
     "output_type": "stream",
     "text": [
      "0 / 5386 reads matched the genome exactly!\n"
     ]
    }
   ],
   "source": [
    "#matching just first 30 bases of each read\n",
    "numMatched = 0\n",
    "n = 0\n",
    "for r in genome:\n",
    "    r = r[:30]  # just taking the first 30 bases\n",
    "    matches = naive(seqs, genome)\n",
    "    n += 1\n",
    "    if len(matches) > 0:\n",
    "        numMatched += 1\n",
    "print('%d / %d reads matched the genome exactly!' % (numMatched, n))"
   ]
  },
  {
   "cell_type": "code",
   "execution_count": null,
   "id": "45ac5806-d7ca-4068-b788-cdaf7df6fcc5",
   "metadata": {},
   "outputs": [],
   "source": []
  }
 ],
 "metadata": {
  "kernelspec": {
   "display_name": "Python 3 (ipykernel)",
   "language": "python",
   "name": "python3"
  },
  "language_info": {
   "codemirror_mode": {
    "name": "ipython",
    "version": 3
   },
   "file_extension": ".py",
   "mimetype": "text/x-python",
   "name": "python",
   "nbconvert_exporter": "python",
   "pygments_lexer": "ipython3",
   "version": "3.7.12"
  }
 },
 "nbformat": 4,
 "nbformat_minor": 5
}
